{
 "cells": [
  {
   "cell_type": "markdown",
   "id": "2d7d830c",
   "metadata": {},
   "source": [
    "#  Black Friday Excel Data"
   ]
  },
  {
   "cell_type": "code",
   "execution_count": 11,
   "id": "59343dde",
   "metadata": {},
   "outputs": [],
   "source": [
    "import openpyxl as xl\n",
    "from tax_calculator import tax_calculator\n",
    "from pprint import pprint\n"
   ]
  },
  {
   "cell_type": "markdown",
   "id": "b323bd31",
   "metadata": {},
   "source": [
    "\n",
    "## Part 1\n",
    "\n",
    "First, read in ski_shop_data.xlsx\n",
    "\n",
    "Then, the orders worksheet to an intuitive variable name. "
   ]
  },
  {
   "cell_type": "code",
   "execution_count": 12,
   "id": "d4407995",
   "metadata": {},
   "outputs": [],
   "source": [
    "wb = xl.load_workbook(filename='ski_shop_data.xlsx')\n",
    "\n",
    "orders = wb['Orders_Info']\n"
   ]
  },
  {
   "cell_type": "markdown",
   "id": "311ccef7",
   "metadata": {},
   "source": [
    "\n",
    "### Column Printer Function\n",
    "\n",
    "It needs to work with Excel frequently,  I will create a helper function to print all the rows a specified column.\n",
    "\n",
    "This will help to view imported data without looking at Excel, and review the data we've written into columns without needing to save a file to review the changes.\n",
    "\n",
    "function should take two arguments:\n",
    "\n",
    "* Worksheet where data is located\n",
    "* Column Letter of data to print\n",
    "\n",
    "function should:\n",
    "\n",
    "* Print Cell Coordinate (e.g. A1, D4).\n",
    "* Print the contents of the cell.\n",
    "\n",
    "Then call function twice:\n",
    "\n",
    "* Once to print Order ID (column A in 'Orders_Info')\n",
    "* Once to print subtotal (column C in 'Orders_Info')"
   ]
  },
  {
   "cell_type": "code",
   "execution_count": 13,
   "id": "239d64b3",
   "metadata": {},
   "outputs": [],
   "source": [
    "def column_printer(sheet, column):\n",
    "    for i in range(1, sheet.max_row + 1):\n",
    "        print(f'{column}{i}', sheet[f'{column}{i}'].value)\n",
    "        "
   ]
  },
  {
   "cell_type": "code",
   "execution_count": 14,
   "id": "68548e80",
   "metadata": {},
   "outputs": [],
   "source": [
    "def column_printer(sheet, column):\n",
    "    for cell in sheet[column]:\n",
    "        print(f'{cell.coordinate}', sheet[cell.coordinate].value)\n",
    "        "
   ]
  },
  {
   "cell_type": "markdown",
   "id": "b4b6d8ea",
   "metadata": {},
   "source": [
    "\n",
    "### Order Data Dictionary\n",
    "\n",
    "Create a dictionary with all of the information contained in the 'Orders_Info' Worksheet.\n",
    "\n",
    "* The dictionary keys should be Order IDs (Column A)\n",
    "* The values should a list storing the data in the rest of the columns.\n",
    "* The columns in the list stored as values should be B, C, D, G, and H (after converting to list). \n",
    "* For example: The first order, column H should be the nested list: [10001, 10002]\n",
    "\n",
    "\n",
    "A few notes:\n",
    "\n",
    "* Convert the Items_Ordered field into a list (we covered a helpful string method for this)\n",
    "* This can be done with a dictionary comprehension\n",
    "* DO NOT INCLUDE EXCEL COLUMN HEADERS"
   ]
  },
  {
   "cell_type": "code",
   "execution_count": 15,
   "id": "78c7cdd2",
   "metadata": {},
   "outputs": [],
   "source": [
    "order_dict = {\n",
    "    orders[f'A{order}'].value:[\n",
    "        orders[f'B{order}'].value,\n",
    "        orders[f'C{order}'].value,\n",
    "        orders[f'D{order}'].value,\n",
    "        orders[f'G{order}'].value,\n",
    "        str(orders[f'H{order}'].value).split(', ')\n",
    "    ]\n",
    "    for order in range(2, orders.max_row + 1)\n",
    "}\n"
   ]
  },
  {
   "cell_type": "markdown",
   "id": "0a01af28",
   "metadata": {},
   "source": [
    "\n",
    "### Sales Tax Calculation (Last time!)\n",
    "\n",
    "It needs to calculate the sales tax and total amount owed for every order in this sheet.\n",
    "\n",
    "* If location is Sun Valley, apply a sales tax of 8%\n",
    "* If location is Mammoth, apply a sales tax of 7.75%.\n",
    "* If location is Stowe, apply a sales tax of 6%\n",
    "\n",
    "Use the tax_calculator function to apply sales tax to each subtotal.\n",
    "\n",
    "**Insert** the calculated sales tax and total amounts into your customer dictionary. \n",
    "\n",
    "**Tip**: Figure out how to do this once and then loop through the column."
   ]
  },
  {
   "cell_type": "code",
   "execution_count": 16,
   "id": "4e1c1e6a",
   "metadata": {
    "scrolled": false
   },
   "outputs": [
    {
     "name": "stdout",
     "output_type": "stream",
     "text": [
      "{100000: ['C00004',\n",
      "          '11/26/2021',\n",
      "          15.98,\n",
      "          1.28,\n",
      "          17.26,\n",
      "          'Sun Valley',\n",
      "          ['10001', '10002']],\n",
      " 100001: ['C00007',\n",
      "          '11/26/2021',\n",
      "          899.97,\n",
      "          54.0,\n",
      "          953.97,\n",
      "          'Stowe',\n",
      "          ['10008', '10009', '10010']],\n",
      " 100002: ['C00015',\n",
      "          '11/26/2021',\n",
      "          799.97,\n",
      "          62.0,\n",
      "          861.97,\n",
      "          'Mammoth',\n",
      "          ['10011', '10012', '10013']],\n",
      " 100003: ['C00016',\n",
      "          '11/26/2021',\n",
      "          117.96,\n",
      "          7.08,\n",
      "          125.04,\n",
      "          'Stowe',\n",
      "          ['10002', '10003', '10004', '10006']],\n",
      " 100004: ['C00020', '11/26/2021', 5.99, 0.48, 6.47, 'Sun Valley', ['10001']],\n",
      " 100005: ['C00010', '11/26/2021', 599.99, 46.5, 646.49, 'Mammoth', ['10010']],\n",
      " 100006: ['C00006', '11/26/2021', 24.99, 1.94, 26.93, 'Mammoth', ['10004']],\n",
      " 100007: ['C00001',\n",
      "          '11/26/2021',\n",
      "          1799.94,\n",
      "          139.5,\n",
      "          1939.44,\n",
      "          'Mammoth',\n",
      "          ['10008', '10008', '10009', '10009', '10009', '10010', '10010']],\n",
      " 100008: ['C00003', '11/26/2021', 99.99, 8.0, 107.99, 'Sun Valley', ['10005']],\n",
      " 100009: ['C00014',\n",
      "          '11/26/2021',\n",
      "          254.95,\n",
      "          20.4,\n",
      "          275.35,\n",
      "          'Sun Valley',\n",
      "          ['10002', '10003', '10004', '10006', '10007']],\n",
      " 100010: ['C00001',\n",
      "          '11/26/2021',\n",
      "          29.98,\n",
      "          2.32,\n",
      "          32.3,\n",
      "          'Mammoth',\n",
      "          ['10002', '10003']],\n",
      " 100011: ['C00001', '11/26/2021', 99.99, 7.75, 107.74, 'Mammoth', ['10005']],\n",
      " 100012: ['C00005',\n",
      "          '11/26/2021',\n",
      "          25.98,\n",
      "          2.08,\n",
      "          28.06,\n",
      "          'Sun Valley',\n",
      "          ['10001', '10003']],\n",
      " 100013: ['C00008',\n",
      "          '11/26/2021',\n",
      "          649.98,\n",
      "          39.0,\n",
      "          688.98,\n",
      "          'Stowe',\n",
      "          ['10012', '10013']],\n",
      " 100014: ['C00013', '11/26/2021', 89.99, 7.2, 97.19, 'Sun Valley', ['10014']],\n",
      " 100020: ['C00004', '11/27/2021', 119.99, 9.6, 129.59, 'Sun Valley', ['10007']],\n",
      " 100021: ['C00017', '11/27/2021', 599.99, 36.0, 635.99, 'Stowe', ['10010']],\n",
      " 100022: ['C00019',\n",
      "          '11/27/2021',\n",
      "          649.98,\n",
      "          52.0,\n",
      "          701.98,\n",
      "          'Sun Valley',\n",
      "          ['10012', '10013']],\n",
      " 100023: ['C00002', '11/27/2021', 24.99, 1.5, 26.49, 'Stowe', ['10004']],\n",
      " 100024: ['C00008', '11/27/2021', 99.99, 6.0, 105.99, 'Stowe', ['10005']],\n",
      " 100025: ['C00021', '11/27/2021', 99.99, 7.75, 107.74, 'Mammoth', ['10008']],\n",
      " 100026: ['C00022', '11/27/2021', 5.99, 0.48, 6.47, 'Sun Valley', ['10001']],\n",
      " 100027: ['C00006', '11/28/2021', 24.99, 1.94, 26.93, 'Mammoth', ['10002']],\n",
      " 100031: ['C00018',\n",
      "          '11/28/2021',\n",
      "          999.96,\n",
      "          60.0,\n",
      "          1059.96,\n",
      "          'Stowe',\n",
      "          ['10005', '10008', '10009', '10010']],\n",
      " 100032: ['C00018', '11/28/2021', 99.99, 6.0, 105.99, 'Stowe', ['10006']],\n",
      " 100033: ['C00010',\n",
      "          '11/28/2021',\n",
      "          399.97,\n",
      "          31.0,\n",
      "          430.97,\n",
      "          'Mammoth',\n",
      "          ['10005', '10008', '10009']],\n",
      " 100034: ['C00016', '11/28/2021', 89.99, 5.4, 95.39, 'Stowe', ['10014']]}\n"
     ]
    }
   ],
   "source": [
    "from tax_calculator import tax_calculator\n",
    "\n",
    "\n",
    "for order in order_dict.values():\n",
    "    if order[3] == 'Sun Valley':\n",
    "        transaction = tax_calculator(order[2], .08)\n",
    "    elif order[3] == 'Mammoth':\n",
    "        transaction = tax_calculator(order[2], .0775)\n",
    "    else:\n",
    "        transaction = tax_calculator(order[2], .06)\n",
    "    order.insert(3, transaction[1])\n",
    "    order.insert(4, transaction[2])\n",
    "    \n",
    "pprint(order_dict)\n",
    "\n",
    "# Ans:\n",
    "    "
   ]
  },
  {
   "cell_type": "markdown",
   "id": "5d3460da",
   "metadata": {},
   "source": [
    "\n",
    "\n",
    "### Write Sales Tax and Total Into the Excel Sheet\n",
    "\n",
    "Great job! Now its just needed to write this data into the workbook.\n",
    "\n",
    "Write the sales tax and total you just calculated into the workbook, then save!\n",
    "\n",
    "Call this workbook 'ski_shop_data_fixed'.\n",
    "\n",
    "**Tip:** There are a few ways to do this. As always, be patient, solve one step at a time."
   ]
  },
  {
   "cell_type": "code",
   "execution_count": 17,
   "id": "957e2656",
   "metadata": {},
   "outputs": [],
   "source": [
    "for index, order in enumerate(order_dict.values(), start=2): \n",
    "    orders[f'E{index}'] = order[3]\n",
    "    orders[f'F{index}'] = order[4]\n"
   ]
  },
  {
   "cell_type": "code",
   "execution_count": 18,
   "id": "0ed681d9",
   "metadata": {},
   "outputs": [],
   "source": [
    "wb.save('ski_shop_data_fixed.xlsx')\n"
   ]
  },
  {
   "cell_type": "markdown",
   "id": "328ba670",
   "metadata": {},
   "source": [
    "\n",
    "## Part 2\n",
    "\n",
    "### Analysis Time!\n",
    "\n",
    "\n",
    "Now that it has fixed the data - it's time to perform analysis on our sales.\n",
    "\n",
    "The starting point will be the order_dict we created, after we added the taxes and totals columns.\n",
    "\n",
    "The first step will be to write a function that calculates the sum of a 'column' of data in our dictionary.\n",
    "\n",
    "A 'column' for example, would be subtotals, which is at index 2 in the list stored as our dictionary values.\n",
    "\n",
    "Function should take the following arguments:\n",
    "\n",
    "* Column Index\n",
    "* Dictionary Name\n",
    "\n",
    "It should output:\n",
    "\n",
    "* The sum of values in the column (rounded to two decimal places)\n",
    "\n",
    "Assume only numeric values will be in the column (You can develop cleaning logic later :D)\n",
    "\n",
    "**Tip:** Use a list comprehension to retrieve the values of interest."
   ]
  },
  {
   "cell_type": "code",
   "execution_count": 19,
   "id": "284693e9",
   "metadata": {},
   "outputs": [],
   "source": [
    "\n",
    "def column_sum(column_index, dictionary):\n",
    "    return round(sum([value[column_index] for value in dictionary.values()]), 2)\n"
   ]
  },
  {
   "cell_type": "markdown",
   "id": "d83413fe",
   "metadata": {},
   "source": [
    "\n",
    "\n",
    "#### Sum The Subtotal, Tax, and Total Columns \n",
    "\n",
    "Now that there is column sum function, calculate the sum of:\n",
    "\n",
    "* Subtotals\n",
    "* Taxes\n",
    "* Totals"
   ]
  },
  {
   "cell_type": "code",
   "execution_count": 20,
   "id": "f96d2f45",
   "metadata": {
    "scrolled": true
   },
   "outputs": [
    {
     "name": "stdout",
     "output_type": "stream",
     "text": [
      "8731.47\n",
      "617.2\n",
      "9348.67\n"
     ]
    }
   ],
   "source": [
    "\n",
    "# column index variable names\n",
    "print(column_sum(2, order_dict))\n",
    "print(column_sum(3, order_dict))\n",
    "print(column_sum(4, order_dict))\n",
    "\n",
    "# Ans:\n",
    "    "
   ]
  },
  {
   "cell_type": "markdown",
   "id": "b2720242",
   "metadata": {},
   "source": [
    "\n",
    "\n",
    "### What is the average of our subtotals?\n",
    "\n",
    "Calculate the average value of transactions.\n",
    "\n",
    "Remember that each entry in  dictionary is one order.\n"
   ]
  },
  {
   "cell_type": "code",
   "execution_count": 21,
   "id": "482c67e9",
   "metadata": {},
   "outputs": [
    {
     "data": {
      "text/plain": [
       "323.39"
      ]
     },
     "execution_count": 21,
     "metadata": {},
     "output_type": "execute_result"
    }
   ],
   "source": [
    "\n",
    "round(column_sum(2, order_dict) / len(order_dict), 2)\n",
    "\n",
    "# Ans:\n",
    "    "
   ]
  },
  {
   "cell_type": "code",
   "execution_count": 22,
   "id": "1aa1093a",
   "metadata": {},
   "outputs": [
    {
     "data": {
      "text/plain": [
       "323.39"
      ]
     },
     "execution_count": 22,
     "metadata": {},
     "output_type": "execute_result"
    }
   ],
   "source": [
    "subtotals = [value[2] for value in order_dict.values()]\n",
    "\n",
    "round(sum(subtotals) / len(subtotals), 2)\n",
    "\n",
    "# Ans:\n",
    "    "
   ]
  },
  {
   "cell_type": "markdown",
   "id": "fa8f7168",
   "metadata": {},
   "source": [
    "\n",
    "### How many unique customers did we have?\n",
    "\n",
    "Calculate the total number of unique customers in our sales data.\n",
    "\n",
    "Then calculate the number of orders per customer (total orders/ unique customers).\n"
   ]
  },
  {
   "cell_type": "code",
   "execution_count": 23,
   "id": "7af182d6",
   "metadata": {},
   "outputs": [
    {
     "name": "stdout",
     "output_type": "stream",
     "text": [
      "19 1.4210526315789473\n"
     ]
    }
   ],
   "source": [
    "unique_customers = len(set([value[0] for value in order_dict.values()]))\n",
    "\n",
    "orders_per_customer = len(order_dict) / unique_customers\n",
    "\n",
    "print(unique_customers, orders_per_customer)\n",
    "\n",
    "\n",
    "# Ans:\n",
    "    "
   ]
  },
  {
   "cell_type": "markdown",
   "id": "ff483459",
   "metadata": {},
   "source": [
    "### How many items in total did we sell?\n",
    "\n",
    "Calculate the total number of items we sold in across all orders. \n",
    "\n",
    "This information is in Column H, which should be the last element in order_dict's values."
   ]
  },
  {
   "cell_type": "code",
   "execution_count": 24,
   "id": "2f7d15ac",
   "metadata": {},
   "outputs": [
    {
     "data": {
      "text/plain": [
       "54"
      ]
     },
     "execution_count": 24,
     "metadata": {},
     "output_type": "execute_result"
    }
   ],
   "source": [
    "sum([len(value[6]) for value in order_dict.values()])\n",
    "\n",
    "\n",
    "# Ans:\n",
    "    "
   ]
  },
  {
   "cell_type": "markdown",
   "id": "05abd311",
   "metadata": {},
   "source": [
    "\n",
    "\n",
    "### Sales By Location\n",
    "\n",
    "Calculate the sum of subtotals by location.\n",
    "\n",
    "Create a dictionary to store them, where location is the key, and revenue for that location is the value.\n",
    "\n",
    "A few steps to consider:\n",
    "\n",
    "* Loop through you dictionary\n",
    "* build a dictionary as you go with location as key\n",
    "* increment revenue every time a transaction matches the location.\n",
    "\n",
    "\n",
    "Output should look like \n",
    "{'Location1': sum of subtotals for 'Location1'}\n",
    "\n",
    "With an entry for each location."
   ]
  },
  {
   "cell_type": "code",
   "execution_count": 25,
   "id": "7ea701a9",
   "metadata": {},
   "outputs": [
    {
     "data": {
      "text/plain": [
       "{'Sun Valley': 1268.84,\n",
       " 'Stowe': 3582.8199999999993,\n",
       " 'Mammoth': 3879.8099999999995}"
      ]
     },
     "execution_count": 25,
     "metadata": {},
     "output_type": "execute_result"
    }
   ],
   "source": [
    "location_sums = {}\n",
    "\n",
    "for data in order_dict.values():\n",
    "    \n",
    "    location = data[5]\n",
    "    \n",
    "  \n",
    "    if location not in location_sums:\n",
    "        \n",
    "        location_sums[location] = 0\n",
    "        \n",
    "    location_sums[location] += data[2]\n",
    "        \n",
    "location_sums\n",
    "\n",
    "# Ans:\n",
    "    "
   ]
  },
  {
   "cell_type": "markdown",
   "id": "a9ffa683",
   "metadata": {},
   "source": [
    "\n",
    "\n",
    "### Challenge: Aggregator Function\n",
    "\n",
    "Now that revenue by category have been  summed, can you write a function to generalize calculating a sum of a column, grouped by the unique values in another column? (for example, sum of totals by date or customer_id).\n",
    "\n",
    "Your function should take the following arguments:\n",
    "* index of the 'column' (index position in order_dict) to group by\n",
    "* index of the 'column' (index position in order_dict) to sum by category\n",
    "* the dictionary where the data is located (assume the same structure as order_dict.\n",
    "\n",
    "It should return:\n",
    "* A dictionary with the categories as keys, and the sum by category as value.\n",
    "\n",
    "Once you've done so use your function to sum totals by date and customer_id."
   ]
  },
  {
   "cell_type": "code",
   "execution_count": 26,
   "id": "32c8ca53",
   "metadata": {},
   "outputs": [],
   "source": [
    "def aggregator(category_index, field_to_sum_index, dictionary):\n",
    "    category_sums = {}\n",
    "    \n",
    "    for data in dictionary.values():\n",
    "        \n",
    "        category = data[category_index]\n",
    "        \n",
    "        if category not in category_sums:\n",
    "            category_sums[category] = 0\n",
    "        category_sums[category] += data[field_to_sum_index]\n",
    "    return category_sums"
   ]
  },
  {
   "cell_type": "markdown",
   "id": "2f1f6a9c",
   "metadata": {},
   "source": [
    "\n",
    "For fun, if you got tired of looking up indices, you could assign your indices names. In libraries like Pandas it'll be able to reference DataFrame column names or indices.\n",
    "\n",
    "Here  unpacking a tuple will be done to name our column indices\n"
   ]
  },
  {
   "cell_type": "code",
   "execution_count": 27,
   "id": "b034d599",
   "metadata": {},
   "outputs": [
    {
     "data": {
      "text/plain": [
       "{'11/26/2021': 5515.649999999998, '11/27/2021': 1600.92, '11/28/2021': 1614.9}"
      ]
     },
     "execution_count": 27,
     "metadata": {},
     "output_type": "execute_result"
    }
   ],
   "source": [
    "customer_id, date, subtotals, taxes, totals, location, items_sold = (0, 1, 2, 3, 4, 5, 6)\n",
    "\n",
    "# Function call with numeric indices\n",
    "aggregator(1, 2, order_dict)\n",
    "\n",
    "# Ans:\n",
    "    "
   ]
  },
  {
   "cell_type": "code",
   "execution_count": 28,
   "id": "5044c4e6",
   "metadata": {},
   "outputs": [
    {
     "data": {
      "text/plain": [
       "{'C00004': 146.85,\n",
       " 'C00007': 953.97,\n",
       " 'C00015': 861.97,\n",
       " 'C00016': 220.43,\n",
       " 'C00020': 6.47,\n",
       " 'C00010': 1077.46,\n",
       " 'C00006': 53.86,\n",
       " 'C00001': 2079.48,\n",
       " 'C00003': 107.99,\n",
       " 'C00014': 275.35,\n",
       " 'C00005': 28.06,\n",
       " 'C00008': 794.97,\n",
       " 'C00013': 97.19,\n",
       " 'C00017': 635.99,\n",
       " 'C00019': 701.98,\n",
       " 'C00002': 26.49,\n",
       " 'C00021': 107.74,\n",
       " 'C00022': 6.47,\n",
       " 'C00018': 1165.95}"
      ]
     },
     "execution_count": 28,
     "metadata": {},
     "output_type": "execute_result"
    }
   ],
   "source": [
    "\n",
    "\n",
    "# Function call with 'named' indices\n",
    "aggregator(customer_id, totals, order_dict)\n",
    "\n",
    "# Ans:\n",
    "    "
   ]
  }
 ],
 "metadata": {
  "kernelspec": {
   "display_name": "Python 3 (ipykernel)",
   "language": "python",
   "name": "python3"
  },
  "language_info": {
   "codemirror_mode": {
    "name": "ipython",
    "version": 3
   },
   "file_extension": ".py",
   "mimetype": "text/x-python",
   "name": "python",
   "nbconvert_exporter": "python",
   "pygments_lexer": "ipython3",
   "version": "3.11.3"
  }
 },
 "nbformat": 4,
 "nbformat_minor": 5
}
